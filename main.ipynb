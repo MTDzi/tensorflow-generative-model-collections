{
 "cells": [
  {
   "cell_type": "code",
   "execution_count": 1,
   "metadata": {},
   "outputs": [
    {
     "name": "stderr",
     "output_type": "stream",
     "text": [
      "/home/md/anaconda3/envs/workshop/lib/python3.6/importlib/_bootstrap.py:219: RuntimeWarning: compiletime version 3.5 of module 'tensorflow.python.framework.fast_tensor_util' does not match runtime version 3.6\n",
      "  return f(*args, **kwds)\n"
     ]
    }
   ],
   "source": [
    "import os\n",
    "\n",
    "## GAN Variants\n",
    "from GAN import GAN\n",
    "from CGAN import CGAN\n",
    "from infoGAN import infoGAN\n",
    "from ACGAN import ACGAN\n",
    "from EBGAN import EBGAN\n",
    "from WGAN import WGAN\n",
    "from WGAN_GP import WGAN_GP\n",
    "from DRAGAN import DRAGAN\n",
    "from LSGAN import LSGAN\n",
    "from BEGAN import BEGAN\n",
    "\n",
    "## VAE Variants\n",
    "from VAE import VAE\n",
    "from CVAE import CVAE\n",
    "\n",
    "from utils import show_all_variables\n",
    "from utils import check_folder\n",
    "\n",
    "import tensorflow as tf"
   ]
  },
  {
   "cell_type": "code",
   "execution_count": 6,
   "metadata": {
    "collapsed": true
   },
   "outputs": [],
   "source": []
  },
  {
   "cell_type": "code",
   "execution_count": 11,
   "metadata": {},
   "outputs": [
    {
     "name": "stdout",
     "output_type": "stream",
     "text": [
      "---------\n",
      "Variables: name (type shape) [size]\n",
      "---------\n",
      "discriminator/d_conv1/w:0 (float32_ref 4x4x1x64) [1024, bytes: 4096]\n",
      "discriminator/d_conv1/biases:0 (float32_ref 64) [64, bytes: 256]\n",
      "discriminator/d_conv2/w:0 (float32_ref 4x4x64x128) [131072, bytes: 524288]\n",
      "discriminator/d_conv2/biases:0 (float32_ref 128) [128, bytes: 512]\n",
      "discriminator/d_bn2/beta:0 (float32_ref 128) [128, bytes: 512]\n",
      "discriminator/d_bn2/gamma:0 (float32_ref 128) [128, bytes: 512]\n",
      "discriminator/d_fc3/Matrix:0 (float32_ref 6272x1024) [6422528, bytes: 25690112]\n",
      "discriminator/d_fc3/bias:0 (float32_ref 1024) [1024, bytes: 4096]\n",
      "discriminator/d_bn3/beta:0 (float32_ref 1024) [1024, bytes: 4096]\n",
      "discriminator/d_bn3/gamma:0 (float32_ref 1024) [1024, bytes: 4096]\n",
      "discriminator/d_fc4/Matrix:0 (float32_ref 1024x1) [1024, bytes: 4096]\n",
      "discriminator/d_fc4/bias:0 (float32_ref 1) [1, bytes: 4]\n",
      "generator/g_fc1/Matrix:0 (float32_ref 62x1024) [63488, bytes: 253952]\n",
      "generator/g_fc1/bias:0 (float32_ref 1024) [1024, bytes: 4096]\n",
      "generator/g_bn1/beta:0 (float32_ref 1024) [1024, bytes: 4096]\n",
      "generator/g_bn1/gamma:0 (float32_ref 1024) [1024, bytes: 4096]\n",
      "generator/g_fc2/Matrix:0 (float32_ref 1024x6272) [6422528, bytes: 25690112]\n",
      "generator/g_fc2/bias:0 (float32_ref 6272) [6272, bytes: 25088]\n",
      "generator/g_bn2/beta:0 (float32_ref 6272) [6272, bytes: 25088]\n",
      "generator/g_bn2/gamma:0 (float32_ref 6272) [6272, bytes: 25088]\n",
      "generator/g_dc3/w:0 (float32_ref 4x4x64x128) [131072, bytes: 524288]\n",
      "generator/g_dc3/biases:0 (float32_ref 64) [64, bytes: 256]\n",
      "generator/g_bn3/beta:0 (float32_ref 64) [64, bytes: 256]\n",
      "generator/g_bn3/gamma:0 (float32_ref 64) [64, bytes: 256]\n",
      "generator/g_dc4/w:0 (float32_ref 4x4x1x64) [1024, bytes: 4096]\n",
      "generator/g_dc4/biases:0 (float32_ref 1) [1, bytes: 4]\n",
      "Total size of variables: 13199362\n",
      "Total bytes of variables: 52797448\n",
      " [*] Reading checkpoints...\n",
      " [*] Failed to find a checkpoint\n",
      " [!] Load failed...\n",
      "Epoch: [ 0] [   0/2187] time: 0.6596, d_loss: 1.43133998, g_loss: 0.75500786\n",
      "Epoch: [ 0] [   1/2187] time: 1.1572, d_loss: 1.43267274, g_loss: 0.74507022\n",
      "Epoch: [ 0] [   2/2187] time: 1.6567, d_loss: 1.41842878, g_loss: 0.76025826\n",
      "Epoch: [ 0] [   3/2187] time: 2.1432, d_loss: 1.40389323, g_loss: 0.77218157\n",
      "Epoch: [ 0] [   4/2187] time: 2.6285, d_loss: 1.39598930, g_loss: 0.78097653\n",
      "Epoch: [ 0] [   5/2187] time: 3.0814, d_loss: 1.39586580, g_loss: 0.78477138\n",
      "Epoch: [ 0] [   6/2187] time: 3.5662, d_loss: 1.40793669, g_loss: 0.76877922\n",
      "Epoch: [ 0] [   7/2187] time: 4.0921, d_loss: 1.40432549, g_loss: 0.76915604\n",
      "Epoch: [ 0] [   8/2187] time: 4.5527, d_loss: 1.39728189, g_loss: 0.77876794\n",
      "Epoch: [ 0] [   9/2187] time: 5.0144, d_loss: 1.39207709, g_loss: 0.77483034\n",
      "Epoch: [ 0] [  10/2187] time: 5.5047, d_loss: 1.38006783, g_loss: 0.77676094\n",
      "Epoch: [ 0] [  11/2187] time: 5.9730, d_loss: 1.38739181, g_loss: 0.77133811\n",
      "Epoch: [ 0] [  12/2187] time: 6.4637, d_loss: 1.39016891, g_loss: 0.77867728\n",
      "Epoch: [ 0] [  13/2187] time: 6.9490, d_loss: 1.37353075, g_loss: 0.77702069\n",
      "Epoch: [ 0] [  14/2187] time: 7.4190, d_loss: 1.36869109, g_loss: 0.78021610\n",
      "Epoch: [ 0] [  15/2187] time: 7.8826, d_loss: 1.36804044, g_loss: 0.78242004\n",
      "Epoch: [ 0] [  16/2187] time: 8.3606, d_loss: 1.37991810, g_loss: 0.78553081\n",
      "Epoch: [ 0] [  17/2187] time: 8.8314, d_loss: 1.35071754, g_loss: 0.78689307\n"
     ]
    },
    {
     "ename": "KeyboardInterrupt",
     "evalue": "",
     "output_type": "error",
     "traceback": [
      "\u001b[0;31m---------------------------------------------------------------------------\u001b[0m",
      "\u001b[0;31mKeyboardInterrupt\u001b[0m                         Traceback (most recent call last)",
      "\u001b[0;32m<ipython-input-11-ac9dd9aad235>\u001b[0m in \u001b[0;36m<module>\u001b[0;34m()\u001b[0m\n\u001b[1;32m     40\u001b[0m \u001b[0;34m\u001b[0m\u001b[0m\n\u001b[1;32m     41\u001b[0m     \u001b[0;31m# launch the graph in a session\u001b[0m\u001b[0;34m\u001b[0m\u001b[0;34m\u001b[0m\u001b[0m\n\u001b[0;32m---> 42\u001b[0;31m     \u001b[0mgan\u001b[0m\u001b[0;34m.\u001b[0m\u001b[0mtrain\u001b[0m\u001b[0;34m(\u001b[0m\u001b[0;34m)\u001b[0m\u001b[0;34m\u001b[0m\u001b[0m\n\u001b[0m\u001b[1;32m     43\u001b[0m     \u001b[0mprint\u001b[0m\u001b[0;34m(\u001b[0m\u001b[0;34m\" [*] Training finished!\"\u001b[0m\u001b[0;34m)\u001b[0m\u001b[0;34m\u001b[0m\u001b[0m\n\u001b[1;32m     44\u001b[0m \u001b[0;34m\u001b[0m\u001b[0m\n",
      "\u001b[0;32m~/git-projects/tensorflow-generative-model-collections/GAN.py\u001b[0m in \u001b[0;36mtrain\u001b[0;34m(self)\u001b[0m\n\u001b[1;32m    173\u001b[0m                 \u001b[0;31m# update D network\u001b[0m\u001b[0;34m\u001b[0m\u001b[0;34m\u001b[0m\u001b[0m\n\u001b[1;32m    174\u001b[0m                 _, summary_str, d_loss = self.sess.run([self.d_optim, self.d_sum, self.d_loss],\n\u001b[0;32m--> 175\u001b[0;31m                                                feed_dict={self.inputs: batch_images, self.z: batch_z})\n\u001b[0m\u001b[1;32m    176\u001b[0m                 \u001b[0mself\u001b[0m\u001b[0;34m.\u001b[0m\u001b[0mwriter\u001b[0m\u001b[0;34m.\u001b[0m\u001b[0madd_summary\u001b[0m\u001b[0;34m(\u001b[0m\u001b[0msummary_str\u001b[0m\u001b[0;34m,\u001b[0m \u001b[0mcounter\u001b[0m\u001b[0;34m)\u001b[0m\u001b[0;34m\u001b[0m\u001b[0m\n\u001b[1;32m    177\u001b[0m \u001b[0;34m\u001b[0m\u001b[0m\n",
      "\u001b[0;32m~/anaconda3/envs/workshop/lib/python3.6/site-packages/tensorflow/python/client/session.py\u001b[0m in \u001b[0;36mrun\u001b[0;34m(self, fetches, feed_dict, options, run_metadata)\u001b[0m\n\u001b[1;32m    887\u001b[0m     \u001b[0;32mtry\u001b[0m\u001b[0;34m:\u001b[0m\u001b[0;34m\u001b[0m\u001b[0m\n\u001b[1;32m    888\u001b[0m       result = self._run(None, fetches, feed_dict, options_ptr,\n\u001b[0;32m--> 889\u001b[0;31m                          run_metadata_ptr)\n\u001b[0m\u001b[1;32m    890\u001b[0m       \u001b[0;32mif\u001b[0m \u001b[0mrun_metadata\u001b[0m\u001b[0;34m:\u001b[0m\u001b[0;34m\u001b[0m\u001b[0m\n\u001b[1;32m    891\u001b[0m         \u001b[0mproto_data\u001b[0m \u001b[0;34m=\u001b[0m \u001b[0mtf_session\u001b[0m\u001b[0;34m.\u001b[0m\u001b[0mTF_GetBuffer\u001b[0m\u001b[0;34m(\u001b[0m\u001b[0mrun_metadata_ptr\u001b[0m\u001b[0;34m)\u001b[0m\u001b[0;34m\u001b[0m\u001b[0m\n",
      "\u001b[0;32m~/anaconda3/envs/workshop/lib/python3.6/site-packages/tensorflow/python/client/session.py\u001b[0m in \u001b[0;36m_run\u001b[0;34m(self, handle, fetches, feed_dict, options, run_metadata)\u001b[0m\n\u001b[1;32m   1118\u001b[0m     \u001b[0;32mif\u001b[0m \u001b[0mfinal_fetches\u001b[0m \u001b[0;32mor\u001b[0m \u001b[0mfinal_targets\u001b[0m \u001b[0;32mor\u001b[0m \u001b[0;34m(\u001b[0m\u001b[0mhandle\u001b[0m \u001b[0;32mand\u001b[0m \u001b[0mfeed_dict_tensor\u001b[0m\u001b[0;34m)\u001b[0m\u001b[0;34m:\u001b[0m\u001b[0;34m\u001b[0m\u001b[0m\n\u001b[1;32m   1119\u001b[0m       results = self._do_run(handle, final_targets, final_fetches,\n\u001b[0;32m-> 1120\u001b[0;31m                              feed_dict_tensor, options, run_metadata)\n\u001b[0m\u001b[1;32m   1121\u001b[0m     \u001b[0;32melse\u001b[0m\u001b[0;34m:\u001b[0m\u001b[0;34m\u001b[0m\u001b[0m\n\u001b[1;32m   1122\u001b[0m       \u001b[0mresults\u001b[0m \u001b[0;34m=\u001b[0m \u001b[0;34m[\u001b[0m\u001b[0;34m]\u001b[0m\u001b[0;34m\u001b[0m\u001b[0m\n",
      "\u001b[0;32m~/anaconda3/envs/workshop/lib/python3.6/site-packages/tensorflow/python/client/session.py\u001b[0m in \u001b[0;36m_do_run\u001b[0;34m(self, handle, target_list, fetch_list, feed_dict, options, run_metadata)\u001b[0m\n\u001b[1;32m   1315\u001b[0m     \u001b[0;32mif\u001b[0m \u001b[0mhandle\u001b[0m \u001b[0;32mis\u001b[0m \u001b[0;32mNone\u001b[0m\u001b[0;34m:\u001b[0m\u001b[0;34m\u001b[0m\u001b[0m\n\u001b[1;32m   1316\u001b[0m       return self._do_call(_run_fn, self._session, feeds, fetches, targets,\n\u001b[0;32m-> 1317\u001b[0;31m                            options, run_metadata)\n\u001b[0m\u001b[1;32m   1318\u001b[0m     \u001b[0;32melse\u001b[0m\u001b[0;34m:\u001b[0m\u001b[0;34m\u001b[0m\u001b[0m\n\u001b[1;32m   1319\u001b[0m       \u001b[0;32mreturn\u001b[0m \u001b[0mself\u001b[0m\u001b[0;34m.\u001b[0m\u001b[0m_do_call\u001b[0m\u001b[0;34m(\u001b[0m\u001b[0m_prun_fn\u001b[0m\u001b[0;34m,\u001b[0m \u001b[0mself\u001b[0m\u001b[0;34m.\u001b[0m\u001b[0m_session\u001b[0m\u001b[0;34m,\u001b[0m \u001b[0mhandle\u001b[0m\u001b[0;34m,\u001b[0m \u001b[0mfeeds\u001b[0m\u001b[0;34m,\u001b[0m \u001b[0mfetches\u001b[0m\u001b[0;34m)\u001b[0m\u001b[0;34m\u001b[0m\u001b[0m\n",
      "\u001b[0;32m~/anaconda3/envs/workshop/lib/python3.6/site-packages/tensorflow/python/client/session.py\u001b[0m in \u001b[0;36m_do_call\u001b[0;34m(self, fn, *args)\u001b[0m\n\u001b[1;32m   1321\u001b[0m   \u001b[0;32mdef\u001b[0m \u001b[0m_do_call\u001b[0m\u001b[0;34m(\u001b[0m\u001b[0mself\u001b[0m\u001b[0;34m,\u001b[0m \u001b[0mfn\u001b[0m\u001b[0;34m,\u001b[0m \u001b[0;34m*\u001b[0m\u001b[0margs\u001b[0m\u001b[0;34m)\u001b[0m\u001b[0;34m:\u001b[0m\u001b[0;34m\u001b[0m\u001b[0m\n\u001b[1;32m   1322\u001b[0m     \u001b[0;32mtry\u001b[0m\u001b[0;34m:\u001b[0m\u001b[0;34m\u001b[0m\u001b[0m\n\u001b[0;32m-> 1323\u001b[0;31m       \u001b[0;32mreturn\u001b[0m \u001b[0mfn\u001b[0m\u001b[0;34m(\u001b[0m\u001b[0;34m*\u001b[0m\u001b[0margs\u001b[0m\u001b[0;34m)\u001b[0m\u001b[0;34m\u001b[0m\u001b[0m\n\u001b[0m\u001b[1;32m   1324\u001b[0m     \u001b[0;32mexcept\u001b[0m \u001b[0merrors\u001b[0m\u001b[0;34m.\u001b[0m\u001b[0mOpError\u001b[0m \u001b[0;32mas\u001b[0m \u001b[0me\u001b[0m\u001b[0;34m:\u001b[0m\u001b[0;34m\u001b[0m\u001b[0m\n\u001b[1;32m   1325\u001b[0m       \u001b[0mmessage\u001b[0m \u001b[0;34m=\u001b[0m \u001b[0mcompat\u001b[0m\u001b[0;34m.\u001b[0m\u001b[0mas_text\u001b[0m\u001b[0;34m(\u001b[0m\u001b[0me\u001b[0m\u001b[0;34m.\u001b[0m\u001b[0mmessage\u001b[0m\u001b[0;34m)\u001b[0m\u001b[0;34m\u001b[0m\u001b[0m\n",
      "\u001b[0;32m~/anaconda3/envs/workshop/lib/python3.6/site-packages/tensorflow/python/client/session.py\u001b[0m in \u001b[0;36m_run_fn\u001b[0;34m(session, feed_dict, fetch_list, target_list, options, run_metadata)\u001b[0m\n\u001b[1;32m   1300\u001b[0m           return tf_session.TF_Run(session, options,\n\u001b[1;32m   1301\u001b[0m                                    \u001b[0mfeed_dict\u001b[0m\u001b[0;34m,\u001b[0m \u001b[0mfetch_list\u001b[0m\u001b[0;34m,\u001b[0m \u001b[0mtarget_list\u001b[0m\u001b[0;34m,\u001b[0m\u001b[0;34m\u001b[0m\u001b[0m\n\u001b[0;32m-> 1302\u001b[0;31m                                    status, run_metadata)\n\u001b[0m\u001b[1;32m   1303\u001b[0m \u001b[0;34m\u001b[0m\u001b[0m\n\u001b[1;32m   1304\u001b[0m     \u001b[0;32mdef\u001b[0m \u001b[0m_prun_fn\u001b[0m\u001b[0;34m(\u001b[0m\u001b[0msession\u001b[0m\u001b[0;34m,\u001b[0m \u001b[0mhandle\u001b[0m\u001b[0;34m,\u001b[0m \u001b[0mfeed_dict\u001b[0m\u001b[0;34m,\u001b[0m \u001b[0mfetch_list\u001b[0m\u001b[0;34m)\u001b[0m\u001b[0;34m:\u001b[0m\u001b[0;34m\u001b[0m\u001b[0m\n",
      "\u001b[0;31mKeyboardInterrupt\u001b[0m: "
     ]
    }
   ],
   "source": [
    "models = [GAN, CGAN, infoGAN, ACGAN, EBGAN, WGAN, WGAN_GP, DRAGAN,\n",
    "          LSGAN, BEGAN, VAE, CVAE]\n",
    "\n",
    "GAN_TYPE = 'GAN' \n",
    "\n",
    "args = {\n",
    "    'epoch': 5,\n",
    "    'batch_size': 32,\n",
    "    'z_dim': 62,\n",
    "    'dataset': 'mnist',\n",
    "    'checkpoint_dir': 'checkpoint',\n",
    "    'result_dir': 'results',\n",
    "    'log_dir': 'logs',\n",
    "    'gan_type': GAN_TYPE,\n",
    "}\n",
    "\n",
    "# Open session\n",
    "with tf.Session(config=tf.ConfigProto(allow_soft_placement=True)) as sess:\n",
    "    # Declare instance for GAN\n",
    "\n",
    "    gan = None\n",
    "    for model in models:\n",
    "        if args['gan_type'] == model.model_name:\n",
    "            gan = model(sess,\n",
    "                        epoch=args['epoch'],\n",
    "                        batch_size=args['batch_size'],\n",
    "                        z_dim=args['z_dim'],\n",
    "                        dataset_name=args['dataset'],\n",
    "                        checkpoint_dir=args['checkpoint_dir'],\n",
    "                        result_dir=args['result_dir'],\n",
    "                        log_dir=args['log_dir'])\n",
    "    if gan is None:\n",
    "        raise Exception(\"[!] There is no option for \" + args['gan_type'])\n",
    "\n",
    "    # build graph\n",
    "    gan.build_model()\n",
    "\n",
    "    # show network architecture\n",
    "    show_all_variables()\n",
    "\n",
    "    # launch the graph in a session\n",
    "    gan.train()\n",
    "    print(\" [*] Training finished!\")\n",
    "\n",
    "    # visualize learned generator\n",
    "    gan.visualize_results(args.epoch-1)\n",
    "    print(\" [*] Testing finished!\")"
   ]
  },
  {
   "cell_type": "code",
   "execution_count": null,
   "metadata": {
    "collapsed": true
   },
   "outputs": [],
   "source": []
  }
 ],
 "metadata": {
  "kernelspec": {
   "display_name": "Python 3",
   "language": "python",
   "name": "python3"
  },
  "language_info": {
   "codemirror_mode": {
    "name": "ipython",
    "version": 3
   },
   "file_extension": ".py",
   "mimetype": "text/x-python",
   "name": "python",
   "nbconvert_exporter": "python",
   "pygments_lexer": "ipython3",
   "version": "3.6.3"
  }
 },
 "nbformat": 4,
 "nbformat_minor": 2
}
